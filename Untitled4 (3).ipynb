{
  "nbformat": 4,
  "nbformat_minor": 0,
  "metadata": {
    "colab": {
      "provenance": []
    },
    "kernelspec": {
      "name": "python3",
      "display_name": "Python 3"
    },
    "language_info": {
      "name": "python"
    }
  },
  "cells": [
    {
      "cell_type": "code",
      "source": [
        "import random\n",
        "import re"
      ],
      "metadata": {
        "id": "RsJB78JHhpA0"
      },
      "execution_count": 30,
      "outputs": []
    },
    {
      "cell_type": "code",
      "source": [
        "text = \"\"\"\n",
        "Once upon a time in a land far away, there lived a wise old king.\n",
        "The king had a daughter who loved to explore the forests and rivers.\n",
        "One day, she discovered a hidden cave full of ancient symbols and mysterious light.\n",
        "\"\"\"\n",
        "\n",
        "# Basic cleanup\n",
        "def clean_text(text):\n",
        "    text = text.lower()\n",
        "    text = re.sub(r'[^a-zA-Z\\s]', '', text)\n",
        "    return text\n",
        "\n",
        "cleaned_text = clean_text(text)\n",
        "words = cleaned_text.split()"
      ],
      "metadata": {
        "id": "0VKPzgKwiUtA"
      },
      "execution_count": 31,
      "outputs": []
    },
    {
      "cell_type": "code",
      "source": [
        "def build_markov_chain(words):\n",
        "    markov_chain = {}\n",
        "    for i in range(len(words) - 1):\n",
        "        curr_word = words[i]\n",
        "        next_word = words[i + 1]\n",
        "        if curr_word not in markov_chain:\n",
        "            markov_chain[curr_word] = []\n",
        "        markov_chain[curr_word].append(next_word)\n",
        "    return markov_chain\n",
        "\n",
        "markov_model = build_markov_chain(words)"
      ],
      "metadata": {
        "id": "zDfqKmXniVnV"
      },
      "execution_count": 32,
      "outputs": []
    },
    {
      "cell_type": "code",
      "source": [
        "def generate_text(chain, start_word, length=20):\n",
        "    word = start_word\n",
        "    output = [word]\n",
        "    for _ in range(length - 1):\n",
        "        next_words = chain.get(word)\n",
        "        if not next_words:\n",
        "            break\n",
        "        word = random.choice(next_words)\n",
        "        output.append(word)\n",
        "    return ' '.join(output)\n",
        "\n",
        "# Example:\n",
        "generated = generate_text(markov_model, start_word=\"the\", length=25)\n",
        "print(generated)"
      ],
      "metadata": {
        "id": "kDH7VfYcia14",
        "outputId": "ed03a4bd-f1fb-459d-f40d-e8bd165a12ed",
        "colab": {
          "base_uri": "https://localhost:8080/"
        }
      },
      "execution_count": 33,
      "outputs": [
        {
          "output_type": "stream",
          "name": "stdout",
          "text": [
            "the king had a daughter who loved to explore the forests and mysterious light\n"
          ]
        }
      ]
    }
  ]
}